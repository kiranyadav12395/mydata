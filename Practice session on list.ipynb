{
 "cells": [
  {
   "cell_type": "code",
   "execution_count": 1,
   "id": "a716c001",
   "metadata": {},
   "outputs": [
    {
     "data": {
      "text/plain": [
       "[]"
      ]
     },
     "execution_count": 1,
     "metadata": {},
     "output_type": "execute_result"
    }
   ],
   "source": [
    "#how to create an empty list.\n",
    "l = []\n",
    "l"
   ]
  },
  {
   "cell_type": "code",
   "execution_count": 3,
   "id": "0b411f4c",
   "metadata": {},
   "outputs": [
    {
     "data": {
      "text/plain": [
       "['a', 'b', 'c', 6.5, 7, (2+3j)]"
      ]
     },
     "execution_count": 3,
     "metadata": {},
     "output_type": "execute_result"
    }
   ],
   "source": [
    "# list may be a combination of all integer, float, complex, string etc.\n",
    "list = ['a','b','c',6.5, 7,2+3j]\n",
    "list"
   ]
  },
  {
   "cell_type": "code",
   "execution_count": 4,
   "id": "ae78f7cd",
   "metadata": {},
   "outputs": [
    {
     "data": {
      "text/plain": [
       "['ram', 'shyam', 'ghanhyam', 'tukaram', 'sitaram', 'parshuram']"
      ]
     },
     "execution_count": 4,
     "metadata": {},
     "output_type": "execute_result"
    }
   ],
   "source": [
    "employee_name = ['ram','shyam','ghanhyam','tukaram','sitaram','parshuram']\n",
    "employee_name"
   ]
  },
  {
   "cell_type": "code",
   "execution_count": 10,
   "id": "171de8ba",
   "metadata": {},
   "outputs": [
    {
     "data": {
      "text/plain": [
       "['ram',\n",
       " 'shyam',\n",
       " 'ghanhyam',\n",
       " 'tukaram',\n",
       " 'sitaram',\n",
       " 'parshuram',\n",
       " 'duldulram',\n",
       " 'duldulram']"
      ]
     },
     "execution_count": 10,
     "metadata": {},
     "output_type": "execute_result"
    }
   ],
   "source": [
    "employee_name.append('duldulram')\n",
    "employee_name"
   ]
  },
  {
   "cell_type": "code",
   "execution_count": 13,
   "id": "16243fb3",
   "metadata": {},
   "outputs": [
    {
     "data": {
      "text/plain": [
       "['ram',\n",
       " 'shyam',\n",
       " 'ghanhyam',\n",
       " 'tukaram',\n",
       " 'sitaram',\n",
       " 'parshuram',\n",
       " 'duldulram',\n",
       " 'duldulram',\n",
       " 'gangaram']"
      ]
     },
     "execution_count": 13,
     "metadata": {},
     "output_type": "execute_result"
    }
   ],
   "source": [
    "employee_name.append('gangaram')\n",
    "employee_name"
   ]
  },
  {
   "cell_type": "code",
   "execution_count": 14,
   "id": "c0c2fa25",
   "metadata": {},
   "outputs": [
    {
     "data": {
      "text/plain": [
       "['ram',\n",
       " 'shyam',\n",
       " 'ghanhyam',\n",
       " 'tukaram',\n",
       " 'sitaram',\n",
       " 'parshuram',\n",
       " 'duldulram',\n",
       " 'duldulram',\n",
       " 'gangaram',\n",
       " 2,\n",
       " 4,\n",
       " 6]"
      ]
     },
     "execution_count": 14,
     "metadata": {},
     "output_type": "execute_result"
    }
   ],
   "source": [
    "# For every single element we have to write append seperately. \n",
    "employee_name.append(2)\n",
    "employee_name.append(4)\n",
    "employee_name.append(6)\n",
    "employee_name"
   ]
  },
  {
   "cell_type": "code",
   "execution_count": 22,
   "id": "18fd0d89",
   "metadata": {},
   "outputs": [
    {
     "data": {
      "text/plain": [
       "[15000, 25000, 35000, 45000, 55000, 65000, 75000]"
      ]
     },
     "execution_count": 22,
     "metadata": {},
     "output_type": "execute_result"
    }
   ],
   "source": [
    "employee_salary = [15000,25000,35000,45000,55000,65000,75000]\n",
    "employee_salary"
   ]
  },
  {
   "cell_type": "code",
   "execution_count": 23,
   "id": "13eac607",
   "metadata": {},
   "outputs": [
    {
     "data": {
      "text/plain": [
       "list"
      ]
     },
     "execution_count": 23,
     "metadata": {},
     "output_type": "execute_result"
    }
   ],
   "source": [
    "type(employee_salary)"
   ]
  },
  {
   "cell_type": "code",
   "execution_count": 24,
   "id": "de9ba149",
   "metadata": {},
   "outputs": [
    {
     "data": {
      "text/plain": [
       "[15000, 25000, 35000, 45000, 55000, 65000, 75000, 85000]"
      ]
     },
     "execution_count": 24,
     "metadata": {},
     "output_type": "execute_result"
    }
   ],
   "source": [
    "# How to use an insert function based on index value)\n",
    "employee_salary.insert (7,85000)\n",
    "employee_salary"
   ]
  },
  {
   "cell_type": "code",
   "execution_count": 25,
   "id": "73e31eb3",
   "metadata": {},
   "outputs": [
    {
     "data": {
      "text/plain": [
       "[5000, 15000, 25000, 35000, 45000, 55000, 65000, 75000, 85000, 95000]"
      ]
     },
     "execution_count": 25,
     "metadata": {},
     "output_type": "execute_result"
    }
   ],
   "source": [
    "employee_salary.insert (8,95000)\n",
    "employee_salary.insert (0,5000)\n",
    "employee_salary"
   ]
  },
  {
   "cell_type": "code",
   "execution_count": 28,
   "id": "a27dc258",
   "metadata": {},
   "outputs": [
    {
     "data": {
      "text/plain": [
       "10"
      ]
     },
     "execution_count": 28,
     "metadata": {},
     "output_type": "execute_result"
    }
   ],
   "source": [
    "#how to calucalte length of your data.\n",
    "len(employee_salary)"
   ]
  },
  {
   "cell_type": "code",
   "execution_count": 29,
   "id": "887ca5c1",
   "metadata": {},
   "outputs": [
    {
     "data": {
      "text/plain": [
       "15000"
      ]
     },
     "execution_count": 29,
     "metadata": {},
     "output_type": "execute_result"
    }
   ],
   "source": [
    "#how to know the index value.\n",
    "employee_salary[1]"
   ]
  },
  {
   "cell_type": "code",
   "execution_count": 30,
   "id": "08d7674f",
   "metadata": {},
   "outputs": [
    {
     "data": {
      "text/plain": [
       "'parshuram'"
      ]
     },
     "execution_count": 30,
     "metadata": {},
     "output_type": "execute_result"
    }
   ],
   "source": [
    "employee_name[5]"
   ]
  },
  {
   "cell_type": "code",
   "execution_count": 31,
   "id": "128e35ad",
   "metadata": {},
   "outputs": [
    {
     "data": {
      "text/plain": [
       "[25000, 35000]"
      ]
     },
     "execution_count": 31,
     "metadata": {},
     "output_type": "execute_result"
    }
   ],
   "source": [
    "#grab the index.\n",
    "employee_salary[2:4]"
   ]
  },
  {
   "cell_type": "code",
   "execution_count": 32,
   "id": "fe0a5d99",
   "metadata": {},
   "outputs": [
    {
     "data": {
      "text/plain": [
       "['shyam', 'ghanhyam', 'tukaram', 'sitaram']"
      ]
     },
     "execution_count": 32,
     "metadata": {},
     "output_type": "execute_result"
    }
   ],
   "source": [
    "# Here 1 is inlcuded and 5 is excluded.\n",
    "employee_name[1:5]"
   ]
  },
  {
   "cell_type": "code",
   "execution_count": 40,
   "id": "5669a2db",
   "metadata": {},
   "outputs": [
    {
     "data": {
      "text/plain": [
       "1"
      ]
     },
     "execution_count": 40,
     "metadata": {},
     "output_type": "execute_result"
    }
   ],
   "source": [
    "# How to many times value comes in a list is indetfied by using count function.\n",
    "employee_salary.count (25000)"
   ]
  },
  {
   "cell_type": "code",
   "execution_count": 41,
   "id": "7416ec2b",
   "metadata": {},
   "outputs": [
    {
     "data": {
      "text/plain": [
       "1"
      ]
     },
     "execution_count": 41,
     "metadata": {},
     "output_type": "execute_result"
    }
   ],
   "source": [
    "employee_salary.count(85000)"
   ]
  },
  {
   "cell_type": "code",
   "execution_count": 42,
   "id": "8cc8b501",
   "metadata": {},
   "outputs": [
    {
     "data": {
      "text/plain": [
       "0"
      ]
     },
     "execution_count": 42,
     "metadata": {},
     "output_type": "execute_result"
    }
   ],
   "source": [
    "employee_salary.count(60000)"
   ]
  },
  {
   "cell_type": "code",
   "execution_count": 43,
   "id": "2ff5da90",
   "metadata": {},
   "outputs": [
    {
     "data": {
      "text/plain": [
       "1"
      ]
     },
     "execution_count": 43,
     "metadata": {},
     "output_type": "execute_result"
    }
   ],
   "source": [
    "employee_name.count('parshuram')"
   ]
  },
  {
   "cell_type": "code",
   "execution_count": 64,
   "id": "11081d27",
   "metadata": {},
   "outputs": [
    {
     "data": {
      "text/plain": [
       "[5000, 15000, 45000, 55000, 65000, 75000, 85000, 95000]"
      ]
     },
     "execution_count": 64,
     "metadata": {},
     "output_type": "execute_result"
    }
   ],
   "source": [
    "employee_salary.pop(2)\n",
    "employee_salary"
   ]
  },
  {
   "cell_type": "code",
   "execution_count": 72,
   "id": "4424bc6e",
   "metadata": {},
   "outputs": [
    {
     "data": {
      "text/plain": [
       "['a', 'b', 'c', 'd', 'e', 'f', 'g', 'h', 'i']"
      ]
     },
     "execution_count": 72,
     "metadata": {},
     "output_type": "execute_result"
    }
   ],
   "source": [
    "list = ['a','b','c','d','e','f','g','h','i']\n",
    "list"
   ]
  },
  {
   "cell_type": "code",
   "execution_count": 77,
   "id": "15043d78",
   "metadata": {},
   "outputs": [
    {
     "data": {
      "text/plain": [
       "['i', 'h', 'g', 'f', 'e', 'd', 'c', 'b', 'a']"
      ]
     },
     "execution_count": 77,
     "metadata": {},
     "output_type": "execute_result"
    }
   ],
   "source": [
    "#how to reverse anything.\n",
    "list.reverse()\n",
    "list"
   ]
  },
  {
   "cell_type": "code",
   "execution_count": 78,
   "id": "43844c9e",
   "metadata": {},
   "outputs": [
    {
     "data": {
      "text/plain": [
       "[95000, 85000, 75000, 65000, 55000, 45000, 15000, 5000]"
      ]
     },
     "execution_count": 78,
     "metadata": {},
     "output_type": "execute_result"
    }
   ],
   "source": [
    "employee_salary.reverse()\n",
    "employee_salary"
   ]
  },
  {
   "cell_type": "code",
   "execution_count": 79,
   "id": "21063696",
   "metadata": {},
   "outputs": [
    {
     "data": {
      "text/plain": [
       "['2',\n",
       " 'm',\n",
       " 'a',\n",
       " 'r',\n",
       " 6,\n",
       " 4,\n",
       " 2,\n",
       " 'gangaram',\n",
       " 'duldulram',\n",
       " 'duldulram',\n",
       " 'parshuram',\n",
       " 'sitaram',\n",
       " 'tukaram',\n",
       " 'ghanhyam',\n",
       " 'shyam',\n",
       " 'ram']"
      ]
     },
     "execution_count": 79,
     "metadata": {},
     "output_type": "execute_result"
    }
   ],
   "source": [
    "employee_name.reverse()\n",
    "employee_name"
   ]
  },
  {
   "cell_type": "code",
   "execution_count": 80,
   "id": "315ff763",
   "metadata": {},
   "outputs": [
    {
     "data": {
      "text/plain": [
       "['a', 'b', 'c', 'd', 'e', 'f', 'g', 'h', 'i']"
      ]
     },
     "execution_count": 80,
     "metadata": {},
     "output_type": "execute_result"
    }
   ],
   "source": [
    "list.sort()\n",
    "list"
   ]
  },
  {
   "cell_type": "code",
   "execution_count": 81,
   "id": "d072c8bb",
   "metadata": {},
   "outputs": [
    {
     "data": {
      "text/plain": [
       "[5000, 15000, 45000, 55000, 65000, 75000, 85000, 95000]"
      ]
     },
     "execution_count": 81,
     "metadata": {},
     "output_type": "execute_result"
    }
   ],
   "source": [
    "employee_salary.sort()\n",
    "employee_salary"
   ]
  },
  {
   "cell_type": "code",
   "execution_count": 14,
   "id": "7a432ecb",
   "metadata": {},
   "outputs": [
    {
     "ename": "NameError",
     "evalue": "name 'employee_name' is not defined",
     "output_type": "error",
     "traceback": [
      "\u001b[1;31m---------------------------------------------------------------------------\u001b[0m",
      "\u001b[1;31mNameError\u001b[0m                                 Traceback (most recent call last)",
      "Input \u001b[1;32mIn [14]\u001b[0m, in \u001b[0;36m<cell line: 1>\u001b[1;34m()\u001b[0m\n\u001b[1;32m----> 1\u001b[0m \u001b[43memployee_name\u001b[49m\u001b[38;5;241m.\u001b[39mextend(\u001b[38;5;124m'\u001b[39m\u001b[38;5;124mkiran\u001b[39m\u001b[38;5;124m'\u001b[39m)\n\u001b[0;32m      2\u001b[0m employee_name\n",
      "\u001b[1;31mNameError\u001b[0m: name 'employee_name' is not defined"
     ]
    }
   ],
   "source": [
    "employee_name.extend('kiran')\n",
    "employee_name"
   ]
  },
  {
   "cell_type": "code",
   "execution_count": 89,
   "id": "f287b3f2",
   "metadata": {},
   "outputs": [
    {
     "data": {
      "text/plain": [
       "[5000, 15000, 45000, 55000, 65000, 75000, 95000]"
      ]
     },
     "execution_count": 89,
     "metadata": {},
     "output_type": "execute_result"
    }
   ],
   "source": [
    "#how to use an remove function\n",
    "employee_salary.remove(85000)\n",
    "employee_salary"
   ]
  },
  {
   "cell_type": "code",
   "execution_count": null,
   "id": "7b00f932",
   "metadata": {},
   "outputs": [],
   "source": [
    "My list = [1,2,3,4,5,6]\n"
   ]
  }
 ],
 "metadata": {
  "kernelspec": {
   "display_name": "Python 3 (ipykernel)",
   "language": "python",
   "name": "python3"
  },
  "language_info": {
   "codemirror_mode": {
    "name": "ipython",
    "version": 3
   },
   "file_extension": ".py",
   "mimetype": "text/x-python",
   "name": "python",
   "nbconvert_exporter": "python",
   "pygments_lexer": "ipython3",
   "version": "3.9.12"
  }
 },
 "nbformat": 4,
 "nbformat_minor": 5
}
