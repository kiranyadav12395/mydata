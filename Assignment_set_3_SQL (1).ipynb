{
 "cells": [
  {
   "cell_type": "code",
   "execution_count": 1,
   "id": "aef3a444",
   "metadata": {},
   "outputs": [],
   "source": [
    "# Connecting with database.\n",
    "# if there is no database exist, it will create one. \n",
    "\n",
    "import sqlite3\n",
    "db = sqlite3.connect(\"Modelcars_database.db\")"
   ]
  },
  {
   "cell_type": "code",
   "execution_count": 2,
   "id": "dd9346d1",
   "metadata": {},
   "outputs": [],
   "source": [
    "cursor = db.cursor()"
   ]
  },
  {
   "cell_type": "code",
   "execution_count": 3,
   "id": "a72c09fa",
   "metadata": {},
   "outputs": [
    {
     "data": {
      "text/plain": [
       "<sqlite3.Cursor at 0x202f6fca5e0>"
      ]
     },
     "execution_count": 3,
     "metadata": {},
     "output_type": "execute_result"
    }
   ],
   "source": [
    "# Ans no:-1\n",
    "\n",
    "cursor.execute(\"create table customers_db(customerNumber, customerName, contactLastName, contactFirstName, phone, addressLine1, addressline2, city, state, postalCode, country, salesRepEmployeeNumber, creditLimit)\")"
   ]
  },
  {
   "cell_type": "code",
   "execution_count": 4,
   "id": "426694e7",
   "metadata": {},
   "outputs": [
    {
     "data": {
      "text/plain": [
       "<sqlite3.Cursor at 0x202f6fca5e0>"
      ]
     },
     "execution_count": 4,
     "metadata": {},
     "output_type": "execute_result"
    }
   ],
   "source": [
    "# Ans no:-2\n",
    "\n",
    "cursor.execute(\"create table Orders_db(orderNumber, orderDate, requiredDate, shippedDate, status, comments, customerNumber)\")"
   ]
  },
  {
   "cell_type": "code",
   "execution_count": 5,
   "id": "d42abf9f",
   "metadata": {},
   "outputs": [
    {
     "name": "stdout",
     "output_type": "stream",
     "text": [
      "11 records inserted\n"
     ]
    }
   ],
   "source": [
    "with open ('Orders_data.csv', 'r') as file:\n",
    "    no_records = 0\n",
    "    for row in file:\n",
    "        cursor.execute(\"insert into Orders_db values (?, ?, ?, ?, ?, ?, ?)\", row.split(\",\"))\n",
    "        db.commit()\n",
    "        no_records+=1\n",
    "print(no_records, 'records inserted')  "
   ]
  },
  {
   "cell_type": "code",
   "execution_count": 6,
   "id": "fc4e92de",
   "metadata": {},
   "outputs": [
    {
     "name": "stdout",
     "output_type": "stream",
     "text": [
      "('1901', '12-03-2022', '20-03-2022', '17-03-2022', 'Closed', 'delivered', '123\\n')\n",
      "('1902', '13-04-2022', '21-04-2022', '19-04-2022', 'Closed', 'delivered', '456\\n')\n",
      "('1903', '15-05-2022', '23-05-2022', '21-05-2022', 'Closed', 'delivered', '789\\n')\n",
      "('1904', '16-06-2022', '24-06-2022', '22-06-2022', 'Closed', 'delivered', '1011\\n')\n",
      "('1905', '18-07-2022', '26-07-2022', '24-07-2022', 'Closed', 'delivered', '1112\\n')\n",
      "('1906', '19-08-2022', '27-08-2022', '25-08-2022', 'Closed', 'delivered', '1213\\n')\n",
      "('1907', '20-09-2022', '28-09-2022', '25-09-2022', 'Closed', 'delivered', '1548\\n')\n",
      "('1908', '22-10-2022', '30-10-2022', '28-10-2022', 'Closed', 'delivered', '1766\\n')\n",
      "('1909', '23-11-2022', '01-12-2022', '29-11-2022', 'Closed', 'delivered', '1985\\n')\n",
      "('1910', '25-12-2022', '02-01-2023', '27-12-2022', 'open', 'Not _Deliver', '2203\\n')\n",
      "('', '', '', '', '', '', '\\n')\n"
     ]
    }
   ],
   "source": [
    "# Ans No:- 3\n",
    "\n",
    "results = cursor.execute(\"select * from Orders_db\")\n",
    "for row in results:\n",
    "    print(row)"
   ]
  },
  {
   "cell_type": "code",
   "execution_count": 7,
   "id": "edacaf0a",
   "metadata": {},
   "outputs": [
    {
     "name": "stdout",
     "output_type": "stream",
     "text": [
      "('delivered',)\n",
      "('delivered',)\n",
      "('delivered',)\n",
      "('delivered',)\n",
      "('delivered',)\n",
      "('delivered',)\n",
      "('delivered',)\n",
      "('delivered',)\n",
      "('delivered',)\n",
      "('Not _Deliver',)\n",
      "('',)\n"
     ]
    }
   ],
   "source": [
    "# Ans No:- 4\n",
    "\n",
    "comments = cursor.execute(\"select comments from Orders_db\")\n",
    "for row in comments:\n",
    "    print(row)"
   ]
  },
  {
   "cell_type": "code",
   "execution_count": 8,
   "id": "7e0b8556",
   "metadata": {},
   "outputs": [
    {
     "name": "stdout",
     "output_type": "stream",
     "text": [
      "('1901', '12-03-2022')\n",
      "('1902', '13-04-2022')\n",
      "('1903', '15-05-2022')\n",
      "('1904', '16-06-2022')\n",
      "('1905', '18-07-2022')\n",
      "('1906', '19-08-2022')\n",
      "('1907', '20-09-2022')\n",
      "('1908', '22-10-2022')\n",
      "('1909', '23-11-2022')\n",
      "('1910', '25-12-2022')\n",
      "('', '')\n"
     ]
    }
   ],
   "source": [
    "# Ans No:- 5\n",
    "\n",
    "order_table = cursor.execute(\"select orderNumber, orderDate from Orders_db\")\n",
    "for row in order_table:\n",
    "    print(row)"
   ]
  },
  {
   "cell_type": "code",
   "execution_count": 9,
   "id": "a816fb99",
   "metadata": {},
   "outputs": [
    {
     "data": {
      "text/plain": [
       "<sqlite3.Cursor at 0x202f6fca5e0>"
      ]
     },
     "execution_count": 9,
     "metadata": {},
     "output_type": "execute_result"
    }
   ],
   "source": [
    "cursor.execute(\"create table employees_db(employeeNumber, lastName, firstName, extension, email, officeCode, reportsTo, jobTitle)\")"
   ]
  },
  {
   "cell_type": "code",
   "execution_count": 10,
   "id": "de97bb68",
   "metadata": {},
   "outputs": [
    {
     "name": "stdout",
     "output_type": "stream",
     "text": [
      "10 records inserted\n"
     ]
    }
   ],
   "source": [
    "with open ('Employee_data.csv', 'r') as file:\n",
    "    no_records = 0\n",
    "    for row in file:\n",
    "        cursor.execute(\"insert into employees_db values (?, ?, ?, ?, ?, ?, ?, ?)\", row.split(\",\"))\n",
    "        db.commit()\n",
    "        no_records+=1\n",
    "print(no_records, 'records inserted')        "
   ]
  },
  {
   "cell_type": "code",
   "execution_count": 11,
   "id": "7694c82b",
   "metadata": {},
   "outputs": [
    {
     "name": "stdout",
     "output_type": "stream",
     "text": [
      "('101', 'yadav', 'kiran')\n",
      "('201', 'jadhav', 'swapnil')\n",
      "('301', 'dalvi', 'pooja')\n",
      "('401', 'kadam', 'swapnil')\n",
      "('501', 'more', 'prachi')\n",
      "('601', 'sakpal', 'yogita')\n",
      "('701', 'shirke', 'harshada')\n",
      "('801', 'pawar', 'nikita')\n",
      "('901', 'chaugule', 'rasika')\n",
      "('1001', 'salvi', 'priti')\n"
     ]
    }
   ],
   "source": [
    "# Ans No:- 6\n",
    "\n",
    "comments = cursor.execute(\"select employeeNumber, lastName, firstName from employees_db\")\n",
    "for row in comments:\n",
    "    print(row)"
   ]
  },
  {
   "cell_type": "code",
   "execution_count": 12,
   "id": "594e1b92",
   "metadata": {},
   "outputs": [
    {
     "name": "stdout",
     "output_type": "stream",
     "text": [
      "10 records inserted\n"
     ]
    }
   ],
   "source": [
    "with open ('Customers_data.csv', 'r') as file:\n",
    "    no_records = 0\n",
    "    for row in file:\n",
    "        cursor.execute(\"insert into customers_db values (?, ?, ?, ?, ?, ?, ?, ?, ?, ?, ?, ?, ?)\", row.split(\",\"))\n",
    "        db.commit()\n",
    "        no_records+=1\n",
    "print(no_records, 'records inserted')        "
   ]
  },
  {
   "cell_type": "code",
   "execution_count": 13,
   "id": "0acedcb1",
   "metadata": {},
   "outputs": [
    {
     "name": "stdout",
     "output_type": "stream",
     "text": [
      "('KD', '101')\n",
      "('AT', '102')\n",
      "('MB', '103')\n",
      "('RP', '104')\n",
      "('PD', '105')\n",
      "('AC', '106')\n",
      "('MK', '107')\n",
      "('PC', '108')\n",
      "('SJ', '109')\n",
      "('VB', '110')\n"
     ]
    }
   ],
   "source": [
    "# Ans no:- 8\n",
    "\n",
    "results = cursor.execute(\"select customerName, salesRepEmployeeNumber from customers_db\")\n",
    "for row in results:\n",
    "    print(row)"
   ]
  },
  {
   "cell_type": "code",
   "execution_count": 14,
   "id": "6726fcbe",
   "metadata": {},
   "outputs": [
    {
     "data": {
      "text/plain": [
       "<sqlite3.Cursor at 0x202f6fca5e0>"
      ]
     },
     "execution_count": 14,
     "metadata": {},
     "output_type": "execute_result"
    }
   ],
   "source": [
    "cursor.execute('create table payments_db(customerNumber, checkNumber, paymentDate, amount)')"
   ]
  },
  {
   "cell_type": "code",
   "execution_count": 16,
   "id": "f7f3bf6d",
   "metadata": {},
   "outputs": [
    {
     "name": "stdout",
     "output_type": "stream",
     "text": [
      "10 records inserted\n"
     ]
    }
   ],
   "source": [
    "with open ('Payments_data.csv', 'r') as file:\n",
    "    no_records = 0\n",
    "    for row in file:\n",
    "        cursor.execute(\"insert into payments_db values (?, ?, ?, ?)\", row.split(\",\"))\n",
    "        db.commit()\n",
    "        no_records+=1\n",
    "print(no_records, 'records inserted')     "
   ]
  },
  {
   "cell_type": "code",
   "execution_count": 17,
   "id": "7e0ff9c6",
   "metadata": {},
   "outputs": [
    {
     "name": "stdout",
     "output_type": "stream",
     "text": [
      "('12-Mar-22', '2100000\\n')\n",
      "('13-Apr-22', '2500000\\n')\n",
      "('15-May-22', '1800000\\n')\n",
      "('16-Jun-22', '2000000\\n')\n",
      "('15-Mar-22', '2350000\\n')\n",
      "('18-Apr-22', '2650000\\n')\n",
      "('19-Jul-22', '2950000\\n')\n",
      "('10-Jun-22', '3250000\\n')\n",
      "('14-Aug-22', '3550000\\n')\n",
      "('22-Oct-22', '3850000\\n')\n"
     ]
    }
   ],
   "source": [
    "# Ans no:- 9\n",
    "\n",
    "results = cursor.execute(\"select paymentDate, amount from payments_db\")\n",
    "for row in results:\n",
    "    print(row)"
   ]
  },
  {
   "cell_type": "code",
   "execution_count": 18,
   "id": "ca9631b7",
   "metadata": {},
   "outputs": [
    {
     "data": {
      "text/plain": [
       "<sqlite3.Cursor at 0x202f6fca5e0>"
      ]
     },
     "execution_count": 18,
     "metadata": {},
     "output_type": "execute_result"
    }
   ],
   "source": [
    "cursor.execute(\"create table products_db(productCode, productName, productLine, productScale, productVendor, productDescription, quantityInStock, buyPrice, MSRP)\")"
   ]
  },
  {
   "cell_type": "code",
   "execution_count": 19,
   "id": "e70994b4",
   "metadata": {},
   "outputs": [
    {
     "name": "stdout",
     "output_type": "stream",
     "text": [
      "10 records inserted\n"
     ]
    }
   ],
   "source": [
    "with open ('Products_data.csv', 'r') as file:\n",
    "    no_records = 0\n",
    "    for row in file:\n",
    "        cursor.execute(\"insert into products_db values (?, ?, ?, ?, ?, ?, ?, ?, ?)\", row.split(\",\"))\n",
    "        db.commit()\n",
    "        no_records+=1\n",
    "print(no_records, 'records inserted')  "
   ]
  },
  {
   "cell_type": "code",
   "execution_count": 20,
   "id": "2eb833fb",
   "metadata": {},
   "outputs": [
    {
     "name": "stdout",
     "output_type": "stream",
     "text": [
      "('Audi', '3300000\\n', 'Deluxe')\n",
      "('Toyota', '1400000\\n', 'Prime')\n",
      "('Hyundai', '1500000\\n', 'Prime')\n",
      "('Nissan', '1000000\\n', 'Deluxe')\n",
      "('Jaguar', '3500000\\n', 'Deluxe')\n",
      "('Honda', '6900000\\n', 'Prime')\n",
      "('Bentley', '3900000\\n', 'Deluxe')\n",
      "('Bugatti', '4800000\\n', 'Deluxe')\n",
      "('Lexus', '3000000\\n', 'Prime')\n",
      "('Renault', '1100000\\n', 'Prime')\n"
     ]
    }
   ],
   "source": [
    "# Ans no:- 10\n",
    "\n",
    "results = cursor.execute(\"select productName, MSRP, productDescription from products_db\")\n",
    "for row in results:\n",
    "    print(row)"
   ]
  },
  {
   "cell_type": "code",
   "execution_count": 21,
   "id": "5660538d",
   "metadata": {},
   "outputs": [
    {
     "name": "stdout",
     "output_type": "stream",
     "text": [
      "('101', 'yadav', 'kiran')\n",
      "('201', 'jadhav', 'swapnil')\n",
      "('301', 'dalvi', 'pooja')\n",
      "('401', 'kadam', 'swapnil')\n",
      "('501', 'more', 'prachi')\n",
      "('601', 'sakpal', 'yogita')\n",
      "('701', 'shirke', 'harshada')\n",
      "('801', 'pawar', 'nikita')\n",
      "('901', 'chaugule', 'rasika')\n",
      "('1001', 'salvi', 'priti')\n"
     ]
    }
   ],
   "source": [
    "# Ans no:- 14\n",
    "\n",
    "comments = cursor.execute(\"select employeeNumber, lastName, firstName from employees_db\")\n",
    "for row in comments:\n",
    "    print(row)"
   ]
  },
  {
   "cell_type": "code",
   "execution_count": null,
   "id": "f94e94a3",
   "metadata": {},
   "outputs": [],
   "source": []
  }
 ],
 "metadata": {
  "kernelspec": {
   "display_name": "Python 3 (ipykernel)",
   "language": "python",
   "name": "python3"
  },
  "language_info": {
   "codemirror_mode": {
    "name": "ipython",
    "version": 3
   },
   "file_extension": ".py",
   "mimetype": "text/x-python",
   "name": "python",
   "nbconvert_exporter": "python",
   "pygments_lexer": "ipython3",
   "version": "3.9.12"
  }
 },
 "nbformat": 4,
 "nbformat_minor": 5
}
